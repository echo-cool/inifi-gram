{
 "cells": [
  {
   "cell_type": "code",
   "execution_count": 1,
   "id": "initial_id",
   "metadata": {
    "collapsed": true,
    "ExecuteTime": {
     "end_time": "2024-03-02T03:20:21.581198300Z",
     "start_time": "2024-03-02T03:20:20.455142700Z"
    }
   },
   "outputs": [],
   "source": [
    "import asyncio\n",
    "import aiohttp\n",
    "import os\n",
    "from itertools import islice\n",
    "import requests\n",
    "from datetime import datetime\n",
    "\n",
    "from datasets import load_from_disk\n",
    "from tqdm import tqdm\n",
    "from jinja2 import Environment, FileSystemLoader\n",
    "import pandas as pd\n",
    "from transformers import pipeline"
   ]
  },
  {
   "cell_type": "code",
   "outputs": [],
   "source": [
    "dataset = load_from_disk(\"snli_with_id\")\n",
    "pipe = pipeline(\"text-generation\", model=\"togethercomputer/RedPajama-INCITE-7B-Base\")\n",
    "id_label_mapping = {\n",
    "    0: \"entailment\",\n",
    "    1: \"neutral\",\n",
    "    2: \"contradiction\"\n",
    "}\n",
    "\n",
    "label_id_mapping = {\n",
    "    \"entailment\": 0,\n",
    "    \"neutral\": 1,\n",
    "    \"contradiction\": 2,\n",
    "    \"invalid\": -1\n",
    "}\n",
    "\n",
    "id_verb_mapping = {\n",
    "    0: \"entails\",\n",
    "    1: \"is neutral to\",\n",
    "    2: \"contradicts\",\n",
    "}\n",
    "\n"
   ],
   "metadata": {
    "collapsed": false
   },
   "id": "62fefa71d65391cb"
  },
  {
   "cell_type": "code",
   "outputs": [],
   "source": [
    "\n",
    "\n",
    "def get_jinja_environment() -> Environment:\n",
    "    return Environment(loader=FileSystemLoader(\"templates\"))\n",
    "\n",
    "\n",
    "def get_together_ai(prompt, model, max_tokens, stop=[\"</s>\"]):\n",
    "    output = pipe(prompt, max_length=max_tokens, stop=stop)\n",
    "    return output[0]['generated_text']\n",
    "\n",
    "\n",
    "def process_data_set(dataset, model=\"togethercomputer/RedPajama-INCITE-7B-Base\", num_instance=None):\n",
    "    if not os.path.exists(\"together-ai\"):\n",
    "        os.makedirs(\"together-ai\")\n",
    "\n",
    "    parquet_file_path = \"together-ai/snli_with_prediction.parquet\"\n",
    "\n",
    "    if os.path.exists(parquet_file_path):\n",
    "        existing_dct = pd.read_parquet(parquet_file_path).set_index('id').to_dict(orient='index')\n",
    "        existing_ids = set(existing_dct.keys())\n",
    "    else:\n",
    "        existing_dct = {}\n",
    "        existing_ids = set()\n",
    "\n",
    "    for example in tqdm(islice(dataset, num_instance), desc=\"Processing dataset\", unit=\" example\"):\n",
    "        doc_id = example[\"id\"]\n",
    "\n",
    "        if doc_id in existing_ids:\n",
    "            tqdm.write(f\"Skipping {doc_id} as it already exists in the dataset.\")\n",
    "            continue\n",
    "\n",
    "        premise = example[\"premise\"]\n",
    "        hypothesis = example[\"hypothesis\"]\n",
    "        label_id = example[\"label\"]\n",
    "\n",
    "        if label_id not in id_label_mapping:\n",
    "            tqdm.write(f\"Skipping {doc_id} as it does not have a valid label.\")\n",
    "            continue\n",
    "\n",
    "        label = id_label_mapping[label_id]\n",
    "        timestamp = datetime.now().strftime(\"%Y-%m-%d %H:%M:%S\")\n",
    "\n",
    "        # possible leak to the development set as the template contains 1 example\n",
    "        predict_tmpl = get_jinja_environment().get_template(\"snli.tpl\")\n",
    "        predict_prompt = predict_tmpl.render(premise=premise, hypothesis=hypothesis)\n",
    "        raw_prediction = get_together_ai(predict_prompt, model, 50, stop=[\"</s>\", \"\\n\"])\n",
    "\n",
    "        raw_prediction_id = raw_prediction.strip().lower()\n",
    "        if raw_prediction_id not in label_id_mapping:\n",
    "            raw_prediction_id = \"invalid\"\n",
    "        clean_prediction_id = label_id_mapping[raw_prediction_id]\n",
    "\n",
    "        if clean_prediction_id == -1:\n",
    "            tqdm.write(f\"Skipping rationale for {doc_id} as it has an invalid prediction.\")\n",
    "            raw_rationale = \"\"\n",
    "        else:\n",
    "            rationale_tmpl = get_jinja_environment().get_template(\"snli_rationale.tpl\")\n",
    "            rationale_prompt = rationale_tmpl.render(premise=premise, hypothesis=hypothesis,\n",
    "                                                     judgment=id_verb_mapping[clean_prediction_id])\n",
    "            raw_rationale = get_together_ai(rationale_prompt, model, 150, stop=[\"</s>\"])\n",
    "\n",
    "        existing_dct[doc_id] = {\n",
    "            \"timestamp\": timestamp,\n",
    "            \"premise\": premise,\n",
    "            \"hypothesis\": hypothesis,\n",
    "            \"label\": label,\n",
    "            \"prediction_raw\": raw_prediction.strip(),\n",
    "            \"prediction_id\": clean_prediction_id,\n",
    "            \"rationale\": raw_rationale.strip()\n",
    "        }\n",
    "\n",
    "        existing_ids.add(doc_id)\n",
    "        if doc_id % 100 == 0:\n",
    "            df = pd.DataFrame.from_dict(existing_dct, orient='index')\n",
    "            df.reset_index(inplace=True)\n",
    "            df.rename(columns={'index': 'id'}, inplace=True)\n",
    "            df.to_parquet(parquet_file_path)\n",
    "\n",
    "    df = pd.DataFrame.from_dict(existing_dct, orient='index')\n",
    "    df.reset_index(inplace=True)\n",
    "    df.rename(columns={'index': 'id'}, inplace=True)\n",
    "    df.to_parquet(parquet_file_path)\n",
    "\n",
    "\n"
   ],
   "metadata": {
    "collapsed": false
   },
   "id": "cea9c5ab423ce5ef"
  },
  {
   "cell_type": "code",
   "outputs": [],
   "source": [
    "def main():\n",
    "    process_data_set(dataset, model=\"togethercomputer/RedPajama-INCITE-7B-Base\", num_instance=10)"
   ],
   "metadata": {
    "collapsed": false
   },
   "id": "7388f0cec29f867e"
  },
  {
   "cell_type": "code",
   "outputs": [],
   "source": [
    "main()"
   ],
   "metadata": {
    "collapsed": false
   },
   "id": "d3ffa84d9d020df"
  }
 ],
 "metadata": {
  "kernelspec": {
   "display_name": "Python 3",
   "language": "python",
   "name": "python3"
  },
  "language_info": {
   "codemirror_mode": {
    "name": "ipython",
    "version": 2
   },
   "file_extension": ".py",
   "mimetype": "text/x-python",
   "name": "python",
   "nbconvert_exporter": "python",
   "pygments_lexer": "ipython2",
   "version": "2.7.6"
  }
 },
 "nbformat": 4,
 "nbformat_minor": 5
}
